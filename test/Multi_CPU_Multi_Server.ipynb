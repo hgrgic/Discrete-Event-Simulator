{
 "cells": [
  {
   "cell_type": "markdown",
   "metadata": {},
   "source": [
    "# Description\n",
    "This notebook is showing how Simulation API could be used in a notebook style. The short notebook is displaying how to visualize the report of an already created simulation.\n",
    "\n",
    "**The simulation is ran on MULTI CPU - MULTI server topology**"
   ]
  },
  {
   "cell_type": "code",
   "execution_count": null,
   "metadata": {},
   "outputs": [],
   "source": [
    "import pandas as pd\n",
    "import requests\n",
    "import matplotlib.pyplot as plt\n",
    "import json\n",
    "from collections import namedtuple\n",
    "import plotly.figure_factory as ff\n",
    "import numpy as np"
   ]
  },
  {
   "cell_type": "code",
   "execution_count": null,
   "metadata": {},
   "outputs": [],
   "source": [
    "url = \"http://78.47.131.57:8080\""
   ]
  },
  {
   "cell_type": "code",
   "execution_count": null,
   "metadata": {},
   "outputs": [],
   "source": [
    "create_url = url + \"/simulation\""
   ]
  },
  {
   "cell_type": "code",
   "execution_count": null,
   "metadata": {},
   "outputs": [],
   "source": [
    "report_url = url + '/report'"
   ]
  },
  {
   "cell_type": "markdown",
   "metadata": {},
   "source": [
    "# Read Report"
   ]
  },
  {
   "cell_type": "code",
   "execution_count": null,
   "metadata": {},
   "outputs": [],
   "source": [
    "querystring = {\"runtime_id\": \"fbc68b02391211eab46facde48001122\"}"
   ]
  },
  {
   "cell_type": "code",
   "execution_count": null,
   "metadata": {},
   "outputs": [],
   "source": [
    "response = requests.request(\"GET\", report_url, params=querystring)\n",
    "response # should be 200"
   ]
  },
  {
   "cell_type": "code",
   "execution_count": null,
   "metadata": {},
   "outputs": [],
   "source": [
    "# response.text"
   ]
  },
  {
   "cell_type": "code",
   "execution_count": null,
   "metadata": {},
   "outputs": [],
   "source": [
    "report = json.loads(response.text, object_hook=lambda d: namedtuple('X', d.keys())(*d.values()))"
   ]
  },
  {
   "cell_type": "code",
   "execution_count": null,
   "metadata": {},
   "outputs": [],
   "source": [
    "# report.report"
   ]
  },
  {
   "cell_type": "markdown",
   "metadata": {},
   "source": [
    "# Visualize Report"
   ]
  },
  {
   "cell_type": "code",
   "execution_count": null,
   "metadata": {},
   "outputs": [],
   "source": [
    "def visualize_metrics(data, title=\"Usage\"):\n",
    "    data_frame = pd.DataFrame(data,\n",
    "                              columns=[\"step\", \"usage\", \"queue\"])\n",
    "    data_frame = data_frame.groupby([\"step\"]).max()\n",
    "    # data_frame.to_csv('rep.csv')\n",
    "\n",
    "    plt.subplot(2, 1, 1)\n",
    "    plt.plot(data_frame[\"usage\"])\n",
    "    plt.title(title)\n",
    "    plt.margins()\n",
    "    plt.subplot(2, 1, 2)\n",
    "    plt.plot(data_frame[\"queue\"])\n",
    "    plt.title(\"Requests in queue\")\n",
    "    plt.subplots_adjust(hspace=0.5)\n",
    "    plt.show()"
   ]
  },
  {
   "cell_type": "markdown",
   "metadata": {},
   "source": [
    "## Server 1"
   ]
  },
  {
   "cell_type": "code",
   "execution_count": null,
   "metadata": {},
   "outputs": [],
   "source": [
    "df_list = []\n",
    "for server in report.report:\n",
    "    for component in server.metrics:\n",
    "        df = pd.DataFrame(component, columns=[\"step\", \"cpu_usage\", \"queue\"])\n",
    "        df_list.append(df)"
   ]
  },
  {
   "cell_type": "code",
   "execution_count": null,
   "metadata": {},
   "outputs": [],
   "source": [
    "# df_list"
   ]
  },
  {
   "cell_type": "code",
   "execution_count": null,
   "metadata": {},
   "outputs": [],
   "source": [
    "data_frame = df_list[0]\n",
    "data_frame = data_frame.groupby([\"step\"]).max()\n",
    "plt.subplot(2, 1, 1)\n",
    "plt.plot(data_frame[\"cpu_usage\"])\n",
    "plt.xlim(0,9)\n",
    "plt.title(\"CPU1_usage (300)\")\n",
    "plt.margins()\n",
    "plt.subplot(2, 1, 2)\n",
    "plt.plot(data_frame[\"queue\"])\n",
    "plt.xlim(0,9)\n",
    "plt.title(\"Requests in queue\")\n",
    "plt.subplots_adjust(hspace=0.5)"
   ]
  },
  {
   "cell_type": "code",
   "execution_count": null,
   "metadata": {},
   "outputs": [],
   "source": [
    "data_frame = df_list[1]\n",
    "data_frame = data_frame.groupby([\"step\"]).max()\n",
    "plt.subplot(2, 1, 1)\n",
    "plt.plot(data_frame[\"cpu_usage\"])\n",
    "plt.xlim(0,9)\n",
    "plt.title(\"CPU2_usage (400)\")\n",
    "plt.margins()\n",
    "plt.subplot(2, 1, 2)\n",
    "plt.plot(data_frame[\"queue\"])\n",
    "plt.xlim(0,9)\n",
    "plt.title(\"Requests in queue\")\n",
    "plt.subplots_adjust(hspace=0.5)"
   ]
  },
  {
   "cell_type": "markdown",
   "metadata": {},
   "source": [
    "# Server 2"
   ]
  },
  {
   "cell_type": "code",
   "execution_count": null,
   "metadata": {},
   "outputs": [],
   "source": [
    "data_frame = df_list[2]\n",
    "data_frame = data_frame.groupby([\"step\"]).max()\n",
    "plt.subplot(2, 1, 1)\n",
    "plt.plot(data_frame[\"cpu_usage\"])\n",
    "plt.xlim(0,9)\n",
    "plt.title(\"CPU1_usage (300)\")\n",
    "plt.margins()\n",
    "plt.subplot(2, 1, 2)\n",
    "plt.plot(data_frame[\"queue\"])\n",
    "plt.xlim(0,9)\n",
    "plt.title(\"Requests in queue\")\n",
    "plt.subplots_adjust(hspace=0.5)"
   ]
  },
  {
   "cell_type": "code",
   "execution_count": null,
   "metadata": {},
   "outputs": [],
   "source": [
    "data_frame = df_list[3]\n",
    "data_frame = data_frame.groupby([\"step\"]).max()\n",
    "plt.subplot(2, 1, 1)\n",
    "plt.plot(data_frame[\"cpu_usage\"])\n",
    "plt.xlim(0,9)\n",
    "plt.title(\"CPU2_usage (400)\")\n",
    "plt.margins()\n",
    "plt.subplot(2, 1, 2)\n",
    "plt.plot(data_frame[\"queue\"])\n",
    "plt.xlim(0,9)\n",
    "plt.title(\"Requests in queue\")\n",
    "plt.subplots_adjust(hspace=0.5)"
   ]
  },
  {
   "cell_type": "markdown",
   "metadata": {},
   "source": [
    "# DB Server "
   ]
  },
  {
   "cell_type": "code",
   "execution_count": null,
   "metadata": {},
   "outputs": [],
   "source": [
    "data_frame = df_list[4]\n",
    "data_frame = data_frame.groupby([\"step\"]).max()\n",
    "plt.subplot(2, 1, 1)\n",
    "plt.plot(data_frame[\"cpu_usage\"])\n",
    "plt.xlim(0,9)\n",
    "plt.title(\"DB_Disk\")\n",
    "plt.margins()\n",
    "plt.subplot(2, 1, 2)\n",
    "plt.plot(data_frame[\"queue\"])\n",
    "plt.xlim(0,9)\n",
    "plt.title(\"Requests in queue\")\n",
    "plt.subplots_adjust(hspace=0.5)"
   ]
  },
  {
   "cell_type": "markdown",
   "metadata": {},
   "source": [
    "# Plotly"
   ]
  },
  {
   "cell_type": "code",
   "execution_count": null,
   "metadata": {},
   "outputs": [],
   "source": [
    "data_frame1 = df_list[0]\n",
    "data_frame1 = data_frame1.groupby([\"step\"]).max()\n",
    "data_frame1['component'] = ['CPU 1'] * len(data_frame1)\n",
    "\n",
    "data_frame2 = df_list[1]\n",
    "data_frame2 = data_frame2.groupby([\"step\"]).max()\n",
    "data_frame2['component'] = ['CPU 2'] * len(data_frame2)"
   ]
  },
  {
   "cell_type": "code",
   "execution_count": null,
   "metadata": {},
   "outputs": [],
   "source": [
    "frames = [data_frame1, data_frame2]\n",
    "result = pd.concat(frames)\n",
    "result.head()"
   ]
  },
  {
   "cell_type": "code",
   "execution_count": null,
   "metadata": {},
   "outputs": [],
   "source": [
    "x1 = data_frame1['cpu_usage'].values\n",
    "x2 = data_frame2['cpu_usage'].values\n",
    "\n",
    "group_labels = ['CPU 1', 'CPU 2']\n",
    "\n",
    "fig = ff.create_distplot([x1,x2], group_labels, bin_size=.2)\n",
    "\n",
    "# Add title\n",
    "fig.update_layout(title_text='Server 1')\n",
    "fig.show()"
   ]
  },
  {
   "cell_type": "code",
   "execution_count": null,
   "metadata": {},
   "outputs": [],
   "source": [
    "data_frame1['cpu_usage'].values[1:100]"
   ]
  },
  {
   "cell_type": "code",
   "execution_count": null,
   "metadata": {},
   "outputs": [],
   "source": []
  }
 ],
 "metadata": {
  "kernelspec": {
   "display_name": "Python 3",
   "language": "python",
   "name": "python3"
  },
  "language_info": {
   "codemirror_mode": {
    "name": "ipython",
    "version": 3
   },
   "file_extension": ".py",
   "mimetype": "text/x-python",
   "name": "python",
   "nbconvert_exporter": "python",
   "pygments_lexer": "ipython3",
   "version": "3.7.1"
  }
 },
 "nbformat": 4,
 "nbformat_minor": 2
}
