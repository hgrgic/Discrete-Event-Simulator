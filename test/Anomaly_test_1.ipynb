{
 "cells": [
  {
   "cell_type": "markdown",
   "metadata": {},
   "source": [
    "# Description\n",
    "This notebook is showing how Simulation API could be used in a notebook style. The short notebook is displaying how to create a simulation and visualize its report"
   ]
  },
  {
   "cell_type": "code",
   "execution_count": 1,
   "metadata": {},
   "outputs": [],
   "source": [
    "import pandas as pd\n",
    "import requests\n",
    "import matplotlib.pyplot as plt\n",
    "import json\n",
    "from collections import namedtuple"
   ]
  },
  {
   "cell_type": "code",
   "execution_count": 2,
   "metadata": {},
   "outputs": [],
   "source": [
    "url = \"http://78.47.131.57:8080\""
   ]
  },
  {
   "cell_type": "code",
   "execution_count": 3,
   "metadata": {},
   "outputs": [],
   "source": [
    "report_url = url + '/report'"
   ]
  },
  {
   "cell_type": "markdown",
   "metadata": {},
   "source": [
    "# Read Report"
   ]
  },
  {
   "cell_type": "code",
   "execution_count": 4,
   "metadata": {},
   "outputs": [],
   "source": [
    "querystring = {\"runtime_id\": \"f22750ce3d1611eaa7be0242ac140003\"}"
   ]
  },
  {
   "cell_type": "code",
   "execution_count": 5,
   "metadata": {},
   "outputs": [
    {
     "data": {
      "text/plain": [
       "<Response [200]>"
      ]
     },
     "execution_count": 5,
     "metadata": {},
     "output_type": "execute_result"
    }
   ],
   "source": [
    "response = requests.request(\"GET\", report_url, params=querystring)\n",
    "response # should be <Response [200]>"
   ]
  },
  {
   "cell_type": "code",
   "execution_count": 6,
   "metadata": {},
   "outputs": [],
   "source": [
    "report = json.loads(response.text, object_hook=lambda d: namedtuple('X', d.keys())(*d.values()))"
   ]
  },
  {
   "cell_type": "markdown",
   "metadata": {},
   "source": [
    "## Data extracted"
   ]
  },
  {
   "cell_type": "code",
   "execution_count": 8,
   "metadata": {},
   "outputs": [
    {
     "data": {
      "text/plain": [
       "'App Server 1'"
      ]
     },
     "execution_count": 8,
     "metadata": {},
     "output_type": "execute_result"
    }
   ],
   "source": [
    "servers = report.report\n",
    "servers[0].name"
   ]
  },
  {
   "cell_type": "code",
   "execution_count": 9,
   "metadata": {},
   "outputs": [
    {
     "name": "stdout",
     "output_type": "stream",
     "text": [
      "App Server 1\n",
      "DB Server 1\n"
     ]
    }
   ],
   "source": [
    "df_list = []\n",
    "for server in servers:\n",
    "    print(server.name)\n",
    "    for component in server.metrics:\n",
    "        df = pd.DataFrame(component, columns=[\"step\", \"cpu_usage\", \"queue\", \"label\", \"name\"])\n",
    "        df_list.append(df)"
   ]
  },
  {
   "cell_type": "code",
   "execution_count": 10,
   "metadata": {},
   "outputs": [
    {
     "data": {
      "text/html": [
       "<div>\n",
       "<style scoped>\n",
       "    .dataframe tbody tr th:only-of-type {\n",
       "        vertical-align: middle;\n",
       "    }\n",
       "\n",
       "    .dataframe tbody tr th {\n",
       "        vertical-align: top;\n",
       "    }\n",
       "\n",
       "    .dataframe thead th {\n",
       "        text-align: right;\n",
       "    }\n",
       "</style>\n",
       "<table border=\"1\" class=\"dataframe\">\n",
       "  <thead>\n",
       "    <tr style=\"text-align: right;\">\n",
       "      <th></th>\n",
       "      <th>step</th>\n",
       "      <th>cpu_usage</th>\n",
       "      <th>queue</th>\n",
       "      <th>label</th>\n",
       "      <th>name</th>\n",
       "    </tr>\n",
       "  </thead>\n",
       "  <tbody>\n",
       "    <tr>\n",
       "      <td>0</td>\n",
       "      <td>1.000000</td>\n",
       "      <td>0</td>\n",
       "      <td>0</td>\n",
       "      <td>IN</td>\n",
       "      <td>Anomaly 1</td>\n",
       "    </tr>\n",
       "    <tr>\n",
       "      <td>1</td>\n",
       "      <td>1.000000</td>\n",
       "      <td>300</td>\n",
       "      <td>0</td>\n",
       "      <td>IN</td>\n",
       "      <td>Anomaly 1</td>\n",
       "    </tr>\n",
       "    <tr>\n",
       "      <td>2</td>\n",
       "      <td>2.000000</td>\n",
       "      <td>300</td>\n",
       "      <td>0</td>\n",
       "      <td>OUT</td>\n",
       "      <td>Anomaly 1</td>\n",
       "    </tr>\n",
       "    <tr>\n",
       "      <td>3</td>\n",
       "      <td>2.000000</td>\n",
       "      <td>0</td>\n",
       "      <td>0</td>\n",
       "      <td>OUT</td>\n",
       "      <td>Anomaly 1</td>\n",
       "    </tr>\n",
       "    <tr>\n",
       "      <td>4</td>\n",
       "      <td>3.040469</td>\n",
       "      <td>1</td>\n",
       "      <td>0</td>\n",
       "      <td>IN</td>\n",
       "      <td>15292</td>\n",
       "    </tr>\n",
       "    <tr>\n",
       "      <td>...</td>\n",
       "      <td>...</td>\n",
       "      <td>...</td>\n",
       "      <td>...</td>\n",
       "      <td>...</td>\n",
       "      <td>...</td>\n",
       "    </tr>\n",
       "    <tr>\n",
       "      <td>4543</td>\n",
       "      <td>8.724508</td>\n",
       "      <td>4</td>\n",
       "      <td>0</td>\n",
       "      <td>OUT</td>\n",
       "      <td>16821</td>\n",
       "    </tr>\n",
       "    <tr>\n",
       "      <td>4544</td>\n",
       "      <td>8.735746</td>\n",
       "      <td>3</td>\n",
       "      <td>0</td>\n",
       "      <td>OUT</td>\n",
       "      <td>17208</td>\n",
       "    </tr>\n",
       "    <tr>\n",
       "      <td>4545</td>\n",
       "      <td>8.811031</td>\n",
       "      <td>2</td>\n",
       "      <td>0</td>\n",
       "      <td>OUT</td>\n",
       "      <td>19095</td>\n",
       "    </tr>\n",
       "    <tr>\n",
       "      <td>4546</td>\n",
       "      <td>10.462086</td>\n",
       "      <td>1</td>\n",
       "      <td>0</td>\n",
       "      <td>OUT</td>\n",
       "      <td>18816</td>\n",
       "    </tr>\n",
       "    <tr>\n",
       "      <td>4547</td>\n",
       "      <td>10.489942</td>\n",
       "      <td>0</td>\n",
       "      <td>0</td>\n",
       "      <td>OUT</td>\n",
       "      <td>18760</td>\n",
       "    </tr>\n",
       "  </tbody>\n",
       "</table>\n",
       "<p>4548 rows × 5 columns</p>\n",
       "</div>"
      ],
      "text/plain": [
       "           step  cpu_usage  queue label       name\n",
       "0      1.000000          0      0    IN  Anomaly 1\n",
       "1      1.000000        300      0    IN  Anomaly 1\n",
       "2      2.000000        300      0   OUT  Anomaly 1\n",
       "3      2.000000          0      0   OUT  Anomaly 1\n",
       "4      3.040469          1      0    IN      15292\n",
       "...         ...        ...    ...   ...        ...\n",
       "4543   8.724508          4      0   OUT      16821\n",
       "4544   8.735746          3      0   OUT      17208\n",
       "4545   8.811031          2      0   OUT      19095\n",
       "4546  10.462086          1      0   OUT      18816\n",
       "4547  10.489942          0      0   OUT      18760\n",
       "\n",
       "[4548 rows x 5 columns]"
      ]
     },
     "execution_count": 10,
     "metadata": {},
     "output_type": "execute_result"
    }
   ],
   "source": [
    "df_list[0]"
   ]
  },
  {
   "cell_type": "code",
   "execution_count": 11,
   "metadata": {},
   "outputs": [
    {
     "data": {
      "image/png": "[encoded data removed]",
      "text/plain": [
       "<Figure size 432x288 with 2 Axes>"
      ]
     },
     "metadata": {
      "needs_background": "light"
     },
     "output_type": "display_data"
    }
   ],
   "source": [
    "data_frame = df_list[0]\n",
    "data_frame = data_frame.groupby([\"step\"]).max()\n",
    "plt.subplot(2, 1, 1)\n",
    "plt.plot(data_frame[\"cpu_usage\"])\n",
    "plt.xlim(0,9)\n",
    "plt.title(\"CPU1_usage (600)\")\n",
    "plt.margins()\n",
    "plt.subplot(2, 1, 2)\n",
    "plt.plot(data_frame[\"queue\"])\n",
    "plt.xlim(0,9)\n",
    "plt.title(\"Requests in queue\")\n",
    "plt.subplots_adjust(hspace=0.5)"
   ]
  },
  {
   "cell_type": "code",
   "execution_count": 12,
   "metadata": {},
   "outputs": [
    {
     "data": {
      "image/png": "[encoded data removed]",
      "text/plain": [
       "<Figure size 432x288 with 2 Axes>"
      ]
     },
     "metadata": {
      "needs_background": "light"
     },
     "output_type": "display_data"
    }
   ],
   "source": [
    "data_frame = df_list[1]\n",
    "data_frame = data_frame.groupby([\"step\"]).max()\n",
    "plt.subplot(2, 1, 1)\n",
    "plt.plot(data_frame[\"cpu_usage\"])\n",
    "plt.xlim(0,9)\n",
    "plt.title(\"CPU2_usage (500)\")\n",
    "plt.margins()\n",
    "plt.subplot(2, 1, 2)\n",
    "plt.plot(data_frame[\"queue\"])\n",
    "plt.xlim(0,9)\n",
    "plt.title(\"Requests in queue\")\n",
    "plt.subplots_adjust(hspace=0.5)"
   ]
  },
  {
   "cell_type": "code",
   "execution_count": null,
   "metadata": {},
   "outputs": [],
   "source": []
  }
 ],
 "metadata": {
  "kernelspec": {
   "display_name": "Python 3",
   "language": "python",
   "name": "python3"
  },
  "language_info": {
   "codemirror_mode": {
    "name": "ipython",
    "version": 3
   },
   "file_extension": ".py",
   "mimetype": "text/x-python",
   "name": "python",
   "nbconvert_exporter": "python",
   "pygments_lexer": "ipython3",
   "version": "3.7.1"
  }
 },
 "nbformat": 4,
 "nbformat_minor": 2
}
