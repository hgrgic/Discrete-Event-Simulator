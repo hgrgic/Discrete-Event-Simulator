{
 "cells": [
  {
   "cell_type": "markdown",
   "metadata": {},
   "source": [
    "# Description\n",
    "This notebook is showing how Simulation API could be used in a notebook style. The short notebook is displaying how to visualize the report of an already created simulation.\n",
    "\n",
    "**The simulation is ran on multi CPU but SINGLE server topology**"
   ]
  },
  {
   "cell_type": "code",
   "execution_count": null,
   "metadata": {},
   "outputs": [],
   "source": [
    "import pandas as pd\n",
    "import requests\n",
    "import matplotlib.pyplot as plt\n",
    "import json\n",
    "from collections import namedtuple"
   ]
  },
  {
   "cell_type": "code",
   "execution_count": null,
   "metadata": {},
   "outputs": [],
   "source": [
    "url = \"http://78.47.131.57:8080\""
   ]
  },
  {
   "cell_type": "code",
   "execution_count": null,
   "metadata": {},
   "outputs": [],
   "source": [
    "create_url = url + \"/simulation\""
   ]
  },
  {
   "cell_type": "code",
   "execution_count": null,
   "metadata": {},
   "outputs": [],
   "source": [
    "report_url = url + '/report'"
   ]
  },
  {
   "cell_type": "markdown",
   "metadata": {},
   "source": [
    "# Read Report"
   ]
  },
  {
   "cell_type": "code",
   "execution_count": null,
   "metadata": {},
   "outputs": [],
   "source": [
    "querystring = {\"runtime_id\": \"766bd57c391511eab46facde48001122\"}"
   ]
  },
  {
   "cell_type": "code",
   "execution_count": null,
   "metadata": {},
   "outputs": [],
   "source": [
    "response = requests.request(\"GET\", report_url, params=querystring)\n",
    "response # should be 200"
   ]
  },
  {
   "cell_type": "code",
   "execution_count": null,
   "metadata": {},
   "outputs": [],
   "source": [
    "# response.text"
   ]
  },
  {
   "cell_type": "code",
   "execution_count": null,
   "metadata": {},
   "outputs": [],
   "source": [
    "report = json.loads(response.text, object_hook=lambda d: namedtuple('X', d.keys())(*d.values()))"
   ]
  },
  {
   "cell_type": "code",
   "execution_count": null,
   "metadata": {},
   "outputs": [],
   "source": [
    "# report.report[1]"
   ]
  },
  {
   "cell_type": "markdown",
   "metadata": {},
   "source": [
    "# Visualize Report"
   ]
  },
  {
   "cell_type": "code",
   "execution_count": null,
   "metadata": {},
   "outputs": [],
   "source": [
    "def visualize_metrics(data, title=\"Usage\"):\n",
    "    data_frame = pd.DataFrame(data,\n",
    "                              columns=[\"step\", \"usage\", \"queue\"])\n",
    "    data_frame = data_frame.groupby([\"step\"]).max()\n",
    "    # data_frame.to_csv('rep.csv')\n",
    "\n",
    "    plt.subplot(2, 1, 1)\n",
    "    plt.plot(data_frame[\"usage\"])\n",
    "    plt.title(title)\n",
    "    plt.margins()\n",
    "    plt.subplot(2, 1, 2)\n",
    "    plt.plot(data_frame[\"queue\"])\n",
    "    plt.title(\"Requests in queue\")\n",
    "    plt.subplots_adjust(hspace=0.5)\n",
    "    plt.show()"
   ]
  },
  {
   "cell_type": "markdown",
   "metadata": {},
   "source": [
    "## Server 1"
   ]
  },
  {
   "cell_type": "code",
   "execution_count": null,
   "metadata": {},
   "outputs": [],
   "source": [
    "df_list = []\n",
    "for server in report.report:\n",
    "    for component in server.metrics:\n",
    "        df = pd.DataFrame(component, columns=[\"step\", \"cpu_usage\", \"queue\"])\n",
    "        df_list.append(df)"
   ]
  },
  {
   "cell_type": "code",
   "execution_count": null,
   "metadata": {},
   "outputs": [],
   "source": [
    "# df_list"
   ]
  },
  {
   "cell_type": "code",
   "execution_count": null,
   "metadata": {},
   "outputs": [],
   "source": [
    "data_frame = df_list[0]\n",
    "data_frame = data_frame.groupby([\"step\"]).max()\n",
    "plt.subplot(2, 1, 1)\n",
    "plt.plot(data_frame[\"cpu_usage\"])\n",
    "plt.xlim(0,9)\n",
    "plt.title(\"CPU1_usage (300)\")\n",
    "plt.margins()\n",
    "plt.subplot(2, 1, 2)\n",
    "plt.plot(data_frame[\"queue\"])\n",
    "plt.xlim(0,9)\n",
    "plt.title(\"Requests in queue\")\n",
    "plt.subplots_adjust(hspace=0.5)"
   ]
  },
  {
   "cell_type": "code",
   "execution_count": null,
   "metadata": {},
   "outputs": [],
   "source": [
    "data_frame = df_list[1]\n",
    "data_frame = data_frame.groupby([\"step\"]).max()\n",
    "plt.subplot(2, 1, 1)\n",
    "plt.plot(data_frame[\"cpu_usage\"])\n",
    "plt.xlim(0,9)\n",
    "plt.title(\"CPU2_usage (400)\")\n",
    "plt.margins()\n",
    "plt.subplot(2, 1, 2)\n",
    "plt.plot(data_frame[\"queue\"])\n",
    "plt.xlim(0,9)\n",
    "plt.title(\"Requests in queue\")\n",
    "plt.subplots_adjust(hspace=0.5)"
   ]
  },
  {
   "cell_type": "markdown",
   "metadata": {},
   "source": [
    "# DB Server"
   ]
  },
  {
   "cell_type": "code",
   "execution_count": null,
   "metadata": {},
   "outputs": [],
   "source": [
    "data_frame = df_list[2]\n",
    "data_frame = data_frame.groupby([\"step\"]).max()\n",
    "plt.subplot(2, 1, 1)\n",
    "plt.plot(data_frame[\"cpu_usage\"])\n",
    "plt.xlim(0,9)\n",
    "plt.title(\"CPU1_usage (300)\")\n",
    "plt.margins()\n",
    "plt.subplot(2, 1, 2)\n",
    "plt.plot(data_frame[\"queue\"])\n",
    "plt.xlim(0,9)\n",
    "plt.title(\"Requests in queue\")\n",
    "plt.subplots_adjust(hspace=0.5)"
   ]
  },
  {
   "cell_type": "code",
   "execution_count": null,
   "metadata": {},
   "outputs": [],
   "source": []
  }
 ],
 "metadata": {
  "kernelspec": {
   "display_name": "Python 3",
   "language": "python",
   "name": "python3"
  },
  "language_info": {
   "codemirror_mode": {
    "name": "ipython",
    "version": 3
   },
   "file_extension": ".py",
   "mimetype": "text/x-python",
   "name": "python",
   "nbconvert_exporter": "python",
   "pygments_lexer": "ipython3",
   "version": "3.7.1"
  }
 },
 "nbformat": 4,
 "nbformat_minor": 2
}
