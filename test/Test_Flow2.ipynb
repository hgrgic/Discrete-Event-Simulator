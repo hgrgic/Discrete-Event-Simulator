{
 "cells": [
  {
   "cell_type": "markdown",
   "metadata": {},
   "source": [
    "# Description\n",
    "This notebook is showing how Simulation API could be used in a notebook style. The short notebook is displaying how to create a simulation and visualize its report"
   ]
  },
  {
   "cell_type": "code",
   "execution_count": 1,
   "metadata": {},
   "outputs": [],
   "source": [
    "import pandas as pd\n",
    "import requests\n",
    "import matplotlib.pyplot as plt\n",
    "import json\n",
    "from collections import namedtuple"
   ]
  },
  {
   "cell_type": "code",
   "execution_count": 2,
   "metadata": {},
   "outputs": [],
   "source": [
    "url = \"http://localhost:8080\""
   ]
  },
  {
   "cell_type": "code",
   "execution_count": 3,
   "metadata": {},
   "outputs": [],
   "source": [
    "create_url = url + \"/simulation\""
   ]
  },
  {
   "cell_type": "code",
   "execution_count": 4,
   "metadata": {},
   "outputs": [],
   "source": [
    "report_url = url + '/report'"
   ]
  },
  {
   "cell_type": "markdown",
   "metadata": {},
   "source": [
    "# Create Simulation"
   ]
  },
  {
   "cell_type": "code",
   "execution_count": 5,
   "metadata": {},
   "outputs": [],
   "source": [
    "payload = '{\"name\":\"Some name 2\",\"description\":\"Some description\",\"topology\":{\"application-servers\":[{\"name\":\"App Server 1\",\"cpu_units\":1,\"memory_units\":2048},{\"name\":\"App Server 2\",\"cpu_units\":1,\"memory_units\":2048}],\"database-servers\":[{\"name\":\"DB Server 1\",\"disk_units\":5120}]},\"scenario\":{\"duration_days\":10,\"step_avg\":5,\"login_percentage\":0.2}}'"
   ]
  },
  {
   "cell_type": "code",
   "execution_count": 6,
   "metadata": {},
   "outputs": [],
   "source": [
    "headers = {\n",
    "    'content-type': \"application/json\"\n",
    "    }"
   ]
  },
  {
   "cell_type": "code",
   "execution_count": 53,
   "metadata": {},
   "outputs": [
    {
     "data": {
      "text/plain": [
       "<Response [201]>"
      ]
     },
     "execution_count": 53,
     "metadata": {},
     "output_type": "execute_result"
    }
   ],
   "source": [
    "response = requests.request(\"POST\", create_url, data=payload, headers=headers)\n",
    "response # should be 201 - Created"
   ]
  },
  {
   "cell_type": "code",
   "execution_count": 45,
   "metadata": {},
   "outputs": [
    {
     "data": {
      "text/plain": [
       "'{\"runtime_id\":\"93ef2a8e36b511eaa00aacde48001122\",\"success\":\"Simulation created\"}\\n'"
      ]
     },
     "execution_count": 45,
     "metadata": {},
     "output_type": "execute_result"
    }
   ],
   "source": [
    "response.text # copy paste runtime_id to query string"
   ]
  },
  {
   "cell_type": "markdown",
   "metadata": {},
   "source": [
    "# Read Report"
   ]
  },
  {
   "cell_type": "code",
   "execution_count": 74,
   "metadata": {},
   "outputs": [],
   "source": [
    "querystring = {\"runtime_id\": \"a0a85c16391011eaa595acde48001122\"}"
   ]
  },
  {
   "cell_type": "code",
   "execution_count": 75,
   "metadata": {},
   "outputs": [
    {
     "data": {
      "text/plain": [
       "<Response [200]>"
      ]
     },
     "execution_count": 75,
     "metadata": {},
     "output_type": "execute_result"
    }
   ],
   "source": [
    "response = requests.request(\"GET\", report_url, params=querystring)\n",
    "response # should be 200"
   ]
  },
  {
   "cell_type": "code",
   "execution_count": 76,
   "metadata": {},
   "outputs": [],
   "source": [
    "# response.text"
   ]
  },
  {
   "cell_type": "code",
   "execution_count": 77,
   "metadata": {},
   "outputs": [],
   "source": [
    "report = json.loads(response.text, object_hook=lambda d: namedtuple('X', d.keys())(*d.values()))"
   ]
  },
  {
   "cell_type": "code",
   "execution_count": 79,
   "metadata": {},
   "outputs": [
    {
     "data": {
      "text/plain": [
       "X(name='App Server 1', type='APP_SERVER', metrics=X(C0=[], C1=[], C2=[]))"
      ]
     },
     "execution_count": 79,
     "metadata": {},
     "output_type": "execute_result"
    }
   ],
   "source": [
    "report.report[0]"
   ]
  },
  {
   "cell_type": "markdown",
   "metadata": {},
   "source": [
    "# Visualize Report"
   ]
  },
  {
   "cell_type": "code",
   "execution_count": 18,
   "metadata": {},
   "outputs": [],
   "source": [
    "def visualize_metrics(data, title=\"Usage\"):\n",
    "    data_frame = pd.DataFrame(data,\n",
    "                              columns=[\"step\", \"usage\", \"queue\"])\n",
    "    data_frame = data_frame.groupby([\"step\"]).max()\n",
    "    # data_frame.to_csv('rep.csv')\n",
    "\n",
    "    plt.subplot(2, 1, 1)\n",
    "    plt.plot(data_frame[\"usage\"])\n",
    "    plt.title(title)\n",
    "    plt.margins()\n",
    "    plt.subplot(2, 1, 2)\n",
    "    plt.plot(data_frame[\"queue\"])\n",
    "    plt.title(\"Requests in queue\")\n",
    "    plt.subplots_adjust(hspace=0.5)\n",
    "    plt.show()"
   ]
  },
  {
   "cell_type": "markdown",
   "metadata": {},
   "source": [
    "## Server 1"
   ]
  },
  {
   "cell_type": "code",
   "execution_count": 73,
   "metadata": {},
   "outputs": [],
   "source": [
    "df_list = []\n",
    "for server in servers:\n",
    "    for component in server.metrics:\n",
    "        df = pd.DataFrame(component, columns=[\"step\", \"cpu_usage\", \"queue\"])\n",
    "        df_list.append(df)"
   ]
  },
  {
   "cell_type": "code",
   "execution_count": 67,
   "metadata": {},
   "outputs": [
    {
     "data": {
      "image/png": "[encoded data removed]",
      "text/plain": [
       "<Figure size 432x288 with 2 Axes>"
      ]
     },
     "metadata": {
      "needs_background": "light"
     },
     "output_type": "display_data"
    }
   ],
   "source": [
    "data_frame = df_list[0]\n",
    "data_frame = data_frame.groupby([\"step\"]).max()\n",
    "plt.subplot(2, 1, 1)\n",
    "plt.plot(data_frame[\"cpu_usage\"])\n",
    "plt.xlim(0,9)\n",
    "plt.title(\"CPU1_usage (600)\")\n",
    "plt.margins()\n",
    "plt.subplot(2, 1, 2)\n",
    "plt.plot(data_frame[\"queue\"])\n",
    "plt.xlim(0,9)\n",
    "plt.title(\"Requests in queue\")\n",
    "plt.subplots_adjust(hspace=0.5)"
   ]
  },
  {
   "cell_type": "code",
   "execution_count": 69,
   "metadata": {},
   "outputs": [
    {
     "data": {
      "image/png": "[encoded data removed]",
      "text/plain": [
       "<Figure size 432x288 with 2 Axes>"
      ]
     },
     "metadata": {
      "needs_background": "light"
     },
     "output_type": "display_data"
    }
   ],
   "source": [
    "data_frame = df_list[1]\n",
    "data_frame = data_frame.groupby([\"step\"]).max()\n",
    "plt.subplot(2, 1, 1)\n",
    "plt.plot(data_frame[\"cpu_usage\"])\n",
    "plt.xlim(0,9)\n",
    "plt.title(\"CPU2_usage (500)\")\n",
    "plt.margins()\n",
    "plt.subplot(2, 1, 2)\n",
    "plt.plot(data_frame[\"queue\"])\n",
    "plt.xlim(0,9)\n",
    "plt.title(\"Requests in queue\")\n",
    "plt.subplots_adjust(hspace=0.5)"
   ]
  },
  {
   "cell_type": "code",
   "execution_count": null,
   "metadata": {},
   "outputs": [],
   "source": []
  }
 ],
 "metadata": {
  "kernelspec": {
   "display_name": "Python 3",
   "language": "python",
   "name": "python3"
  },
  "language_info": {
   "codemirror_mode": {
    "name": "ipython",
    "version": 3
   },
   "file_extension": ".py",
   "mimetype": "text/x-python",
   "name": "python",
   "nbconvert_exporter": "python",
   "pygments_lexer": "ipython3",
   "version": "3.7.1"
  }
 },
 "nbformat": 4,
 "nbformat_minor": 2
}
